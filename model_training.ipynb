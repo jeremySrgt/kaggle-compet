{
 "cells": [
  {
   "cell_type": "code",
   "execution_count": 1,
   "metadata": {},
   "outputs": [],
   "source": [
    "import pandas as pd\n",
    "import numpy as np\n",
    "import matplotlib.pyplot as plt\n",
    "\n",
    "\n",
    "from sklearn.model_selection import train_test_split, cross_val_score, GridSearchCV \n",
    "from sklearn.linear_model import LogisticRegression\n",
    "from sklearn.metrics import mean_squared_error, accuracy_score, confusion_matrix, roc_curve,roc_auc_score,auc, f1_score\n",
    "from sklearn.feature_selection import SelectFromModel\n",
    "from sklearn.tree import DecisionTreeClassifier\n"
   ]
  },
  {
   "cell_type": "code",
   "execution_count": null,
   "metadata": {},
   "outputs": [],
   "source": [
    "#formatage des données de training\n",
    "\n",
    "\n",
    "df_train = pd.read_csv('Train_transformed.csv',  sep=';')\n",
    "df_train = df_train.drop('Unnamed: 0', axis=1)\n",
    "\n",
    "df_submission_test = pd.read_csv('Test_submission_transformed.csv', sep=';')\n",
    "df_submission_test = df_submission_test.drop('Unnamed: 0', axis=1)\n",
    "\n",
    "print(\"shape des données du Train.csv : {}\".format(df_train.shape))\n",
    "print(\"shape des données de Test.csv : {}\".format(df_submission_test.shape))\n",
    "\n",
    "df_train.drop_duplicates(subset= ['booking_id'], inplace= True)\n",
    "\n",
    "df_train.set_index('booking_id', inplace= True)\n",
    "\n",
    "\n",
    "\n"
   ]
  },
  {
   "cell_type": "code",
   "execution_count": 3,
   "metadata": {},
   "outputs": [],
   "source": [
    "X = df_train.drop('return90',axis=1)\n",
    "y = df_train['return90']"
   ]
  },
  {
   "cell_type": "code",
   "execution_count": 6,
   "metadata": {},
   "outputs": [],
   "source": [
    "X_train, X_test, y_train, y_test = train_test_split(X, y, test_size = 0.2, random_state = 87)"
   ]
  },
  {
   "cell_type": "code",
   "execution_count": 36,
   "metadata": {},
   "outputs": [],
   "source": [
    "import re\n",
    "\n",
    "regex = re.compile(r\"\\[|\\]|<|\\\\\", re.IGNORECASE)\n",
    "\n",
    "X_train.columns = [regex.sub(\"_\", col) if any(x in str(col) for x in set(('[', ']', '<','\\\\'))) else col for col in X_train.columns.values]\n",
    "X_test.columns = [regex.sub(\"_\", col) if any(x in str(col) for x in set(('[', ']', '<', '\\\\'))) else col for col in X_test.columns.values]"
   ]
  },
  {
   "cell_type": "code",
   "execution_count": 37,
   "metadata": {},
   "outputs": [
    {
     "data": {
      "text/html": [
       "<div>\n",
       "<style scoped>\n",
       "    .dataframe tbody tr th:only-of-type {\n",
       "        vertical-align: middle;\n",
       "    }\n",
       "\n",
       "    .dataframe tbody tr th {\n",
       "        vertical-align: top;\n",
       "    }\n",
       "\n",
       "    .dataframe thead th {\n",
       "        text-align: right;\n",
       "    }\n",
       "</style>\n",
       "<table border=\"1\" class=\"dataframe\">\n",
       "  <thead>\n",
       "    <tr style=\"text-align: right;\">\n",
       "      <th></th>\n",
       "      <th>is_hotel</th>\n",
       "      <th>good_for_family</th>\n",
       "      <th>accept_credit_card</th>\n",
       "      <th>parking</th>\n",
       "      <th>outdoor_seating</th>\n",
       "      <th>wifi</th>\n",
       "      <th>wheelchair_accessible</th>\n",
       "      <th>people</th>\n",
       "      <th>is_required_prepay_satisfied</th>\n",
       "      <th>isTest</th>\n",
       "      <th>...</th>\n",
       "      <th>member_city_新竹縣</th>\n",
       "      <th>member_city_桃園縣</th>\n",
       "      <th>member_city_澎湖縣</th>\n",
       "      <th>member_city_花蓮縣</th>\n",
       "      <th>member_city_苗栗縣</th>\n",
       "      <th>member_city_連江縣</th>\n",
       "      <th>member_city_金門縣</th>\n",
       "      <th>member_city_雲林縣</th>\n",
       "      <th>member_city_香港</th>\n",
       "      <th>member_city_高雄市</th>\n",
       "    </tr>\n",
       "    <tr>\n",
       "      <th>booking_id</th>\n",
       "      <th></th>\n",
       "      <th></th>\n",
       "      <th></th>\n",
       "      <th></th>\n",
       "      <th></th>\n",
       "      <th></th>\n",
       "      <th></th>\n",
       "      <th></th>\n",
       "      <th></th>\n",
       "      <th></th>\n",
       "      <th></th>\n",
       "      <th></th>\n",
       "      <th></th>\n",
       "      <th></th>\n",
       "      <th></th>\n",
       "      <th></th>\n",
       "      <th></th>\n",
       "      <th></th>\n",
       "      <th></th>\n",
       "      <th></th>\n",
       "      <th></th>\n",
       "    </tr>\n",
       "  </thead>\n",
       "  <tbody>\n",
       "    <tr>\n",
       "      <td>148162</td>\n",
       "      <td>1</td>\n",
       "      <td>1</td>\n",
       "      <td>1</td>\n",
       "      <td>1</td>\n",
       "      <td>0</td>\n",
       "      <td>1</td>\n",
       "      <td>1</td>\n",
       "      <td>2</td>\n",
       "      <td>1</td>\n",
       "      <td>0</td>\n",
       "      <td>...</td>\n",
       "      <td>0</td>\n",
       "      <td>0</td>\n",
       "      <td>0</td>\n",
       "      <td>0</td>\n",
       "      <td>0</td>\n",
       "      <td>0</td>\n",
       "      <td>0</td>\n",
       "      <td>0</td>\n",
       "      <td>0</td>\n",
       "      <td>0</td>\n",
       "    </tr>\n",
       "    <tr>\n",
       "      <td>69798</td>\n",
       "      <td>0</td>\n",
       "      <td>1</td>\n",
       "      <td>1</td>\n",
       "      <td>1</td>\n",
       "      <td>0</td>\n",
       "      <td>1</td>\n",
       "      <td>1</td>\n",
       "      <td>2</td>\n",
       "      <td>1</td>\n",
       "      <td>0</td>\n",
       "      <td>...</td>\n",
       "      <td>0</td>\n",
       "      <td>0</td>\n",
       "      <td>0</td>\n",
       "      <td>0</td>\n",
       "      <td>0</td>\n",
       "      <td>0</td>\n",
       "      <td>0</td>\n",
       "      <td>0</td>\n",
       "      <td>0</td>\n",
       "      <td>0</td>\n",
       "    </tr>\n",
       "    <tr>\n",
       "      <td>92353</td>\n",
       "      <td>0</td>\n",
       "      <td>1</td>\n",
       "      <td>1</td>\n",
       "      <td>1</td>\n",
       "      <td>0</td>\n",
       "      <td>1</td>\n",
       "      <td>1</td>\n",
       "      <td>2</td>\n",
       "      <td>1</td>\n",
       "      <td>0</td>\n",
       "      <td>...</td>\n",
       "      <td>0</td>\n",
       "      <td>0</td>\n",
       "      <td>0</td>\n",
       "      <td>0</td>\n",
       "      <td>0</td>\n",
       "      <td>0</td>\n",
       "      <td>0</td>\n",
       "      <td>0</td>\n",
       "      <td>0</td>\n",
       "      <td>0</td>\n",
       "    </tr>\n",
       "    <tr>\n",
       "      <td>86342</td>\n",
       "      <td>0</td>\n",
       "      <td>1</td>\n",
       "      <td>1</td>\n",
       "      <td>1</td>\n",
       "      <td>0</td>\n",
       "      <td>1</td>\n",
       "      <td>1</td>\n",
       "      <td>2</td>\n",
       "      <td>1</td>\n",
       "      <td>0</td>\n",
       "      <td>...</td>\n",
       "      <td>0</td>\n",
       "      <td>0</td>\n",
       "      <td>0</td>\n",
       "      <td>0</td>\n",
       "      <td>0</td>\n",
       "      <td>0</td>\n",
       "      <td>0</td>\n",
       "      <td>0</td>\n",
       "      <td>0</td>\n",
       "      <td>0</td>\n",
       "    </tr>\n",
       "    <tr>\n",
       "      <td>135669</td>\n",
       "      <td>0</td>\n",
       "      <td>1</td>\n",
       "      <td>1</td>\n",
       "      <td>1</td>\n",
       "      <td>0</td>\n",
       "      <td>0</td>\n",
       "      <td>1</td>\n",
       "      <td>2</td>\n",
       "      <td>1</td>\n",
       "      <td>0</td>\n",
       "      <td>...</td>\n",
       "      <td>0</td>\n",
       "      <td>0</td>\n",
       "      <td>0</td>\n",
       "      <td>0</td>\n",
       "      <td>0</td>\n",
       "      <td>0</td>\n",
       "      <td>0</td>\n",
       "      <td>0</td>\n",
       "      <td>0</td>\n",
       "      <td>0</td>\n",
       "    </tr>\n",
       "  </tbody>\n",
       "</table>\n",
       "<p>5 rows × 719 columns</p>\n",
       "</div>"
      ],
      "text/plain": [
       "            is_hotel  good_for_family  accept_credit_card  parking  \\\n",
       "booking_id                                                           \n",
       "148162             1                1                   1        1   \n",
       "69798              0                1                   1        1   \n",
       "92353              0                1                   1        1   \n",
       "86342              0                1                   1        1   \n",
       "135669             0                1                   1        1   \n",
       "\n",
       "            outdoor_seating  wifi  wheelchair_accessible  people  \\\n",
       "booking_id                                                         \n",
       "148162                    0     1                      1       2   \n",
       "69798                     0     1                      1       2   \n",
       "92353                     0     1                      1       2   \n",
       "86342                     0     1                      1       2   \n",
       "135669                    0     0                      1       2   \n",
       "\n",
       "            is_required_prepay_satisfied  isTest  ...  member_city_新竹縣  \\\n",
       "booking_id                                        ...                    \n",
       "148162                                 1       0  ...                0   \n",
       "69798                                  1       0  ...                0   \n",
       "92353                                  1       0  ...                0   \n",
       "86342                                  1       0  ...                0   \n",
       "135669                                 1       0  ...                0   \n",
       "\n",
       "            member_city_桃園縣  member_city_澎湖縣  member_city_花蓮縣  \\\n",
       "booking_id                                                      \n",
       "148162                    0                0                0   \n",
       "69798                     0                0                0   \n",
       "92353                     0                0                0   \n",
       "86342                     0                0                0   \n",
       "135669                    0                0                0   \n",
       "\n",
       "            member_city_苗栗縣  member_city_連江縣  member_city_金門縣  \\\n",
       "booking_id                                                      \n",
       "148162                    0                0                0   \n",
       "69798                     0                0                0   \n",
       "92353                     0                0                0   \n",
       "86342                     0                0                0   \n",
       "135669                    0                0                0   \n",
       "\n",
       "            member_city_雲林縣  member_city_香港  member_city_高雄市  \n",
       "booking_id                                                    \n",
       "148162                    0               0                0  \n",
       "69798                     0               0                0  \n",
       "92353                     0               0                0  \n",
       "86342                     0               0                0  \n",
       "135669                    0               0                0  \n",
       "\n",
       "[5 rows x 719 columns]"
      ]
     },
     "execution_count": 37,
     "metadata": {},
     "output_type": "execute_result"
    }
   ],
   "source": [
    "X_train.head()"
   ]
  },
  {
   "cell_type": "code",
   "execution_count": 38,
   "metadata": {},
   "outputs": [
    {
     "name": "stdout",
     "output_type": "stream",
     "text": [
      "AUC: 0.6786141827625043\n"
     ]
    },
    {
     "data": {
      "image/png": "[encoded data removed]",
      "text/plain": [
       "<Figure size 432x288 with 1 Axes>"
      ]
     },
     "metadata": {
      "needs_background": "light"
     },
     "output_type": "display_data"
    }
   ],
   "source": [
    "import xgboost as xgb\n",
    "from sklearn.model_selection import RandomizedSearchCV\n",
    "\n",
    "\n",
    "\n",
    "xgb_params = {\n",
    "            \"eta\": 0.1,\n",
    "            \"max_depth\": 7,\n",
    "            \"gamma\": 1,\n",
    "            \"min_child_weight\": 1,\n",
    "            \"subsample\": 0.5,\n",
    "            \"colsample_bytree\": 0.8,\n",
    "            \"max_bin\": 256,\n",
    "            \"objective\": \"binary:logistic\",\n",
    "            \"tree_method\": \"hist\",\n",
    "            \"silent\": 1,\n",
    "        }\n",
    "\n",
    "params = {\"learning_rate\"    : [0.05, 0.10, 0.15, 0.20, 0.25, 0.30 ] ,\n",
    "          \"max_depth\"        : [ 3, 4, 5, 6, 8, 10, 12, 15],\n",
    "          \"min_child_weight\" : [ 1, 3, 5, 7 ],\n",
    "          \"gamma\"            : [ 0.0, 0.1, 0.2 , 0.3, 0.4 ],\n",
    "          \"colsample_bytree\" : [ 0.3, 0.4, 0.5 , 0.7 ] }\n",
    "\n",
    "boost = xgb.XGBClassifier(eta=0.1, max_depth=7,gamma = 1, min_child_weight=1,subsample=0.5,colsample_bytree=0.8,\n",
    "                          max_bin=256,objective = \"binary:logistic\",tree_method= \"hist\",silent=1)\n",
    "\n",
    "\n",
    "#cv_random = RandomizedSearchCV(boost,params,n_iter= 5, random_state= 55)\n",
    "\n",
    "#cv_random.fit(X_train, y_train)\n",
    "\n",
    "#print(cv_random.best_params_)\n",
    "#print(cv_random.best_score_)\n",
    "\n",
    "boost.fit(X_train,y_train)\n",
    "\n",
    "y_boost = boost.predict_proba(X_test)[:,1]\n",
    "\n",
    "\n",
    "fpr, tpr, _ = roc_curve(y_test,y_boost)\n",
    "plt.plot(fpr, tpr, marker='.', label='LogistiIIc')\n",
    "\n",
    "\n",
    "print(\"AUC: {}\".format(roc_auc_score(y_test, y_boost)))"
   ]
  },
  {
   "cell_type": "code",
   "execution_count": 52,
   "metadata": {},
   "outputs": [
    {
     "data": {
      "image/png": "[encoded data removed]",
      "text/plain": [
       "<Figure size 432x288 with 1 Axes>"
      ]
     },
     "metadata": {
      "needs_background": "light"
     },
     "output_type": "display_data"
    }
   ],
   "source": [
    "xgb.plot_importance(boost, max_num_features=11) # top 10 features\n",
    "plt.show()"
   ]
  },
  {
   "cell_type": "code",
   "execution_count": 3,
   "metadata": {},
   "outputs": [],
   "source": [
    "import re\n",
    "import xgboost as xgb\n",
    "X = df_train.drop('return90',axis=1)\n",
    "y = df_train['return90']\n",
    "\n",
    "\n",
    "X_train, X_test, y_train, y_test = train_test_split(X, y, test_size = 0.2, random_state = 87)\n",
    "\n",
    "\n",
    "regex = re.compile(r\"\\[|\\]|<|\\\\\", re.IGNORECASE)\n",
    "\n",
    "X_train.columns = [regex.sub(\"_\", col) if any(x in str(col) for x in set(('[', ']', '<','\\\\'))) else col for col in X_train.columns.values]\n",
    "X_test.columns = [regex.sub(\"_\", col) if any(x in str(col) for x in set(('[', ']', '<', '\\\\'))) else col for col in X_test.columns.values]\n",
    "\n",
    "dtrain = xgb.DMatrix(X_train, label=y_train)\n",
    "dtest = xgb.DMatrix(X_test, label=y_test)"
   ]
  },
  {
   "cell_type": "code",
   "execution_count": 4,
   "metadata": {},
   "outputs": [],
   "source": [
    "params = {\n",
    "    # Parameters that we are going to tune.\n",
    "    'max_depth':6,\n",
    "    'min_child_weight': 1,\n",
    "    'eta':.3,\n",
    "    'subsample': 1,\n",
    "    'colsample_bytree': 1,\n",
    "    # Other parameters\n",
    "    'objective':'binary:logistic',\n",
    "}"
   ]
  },
  {
   "cell_type": "code",
   "execution_count": 5,
   "metadata": {},
   "outputs": [],
   "source": [
    "params['eval_metric'] = \"auc\"\n",
    "num_boost_round = 999"
   ]
  },
  {
   "cell_type": "code",
   "execution_count": 59,
   "metadata": {},
   "outputs": [
    {
     "name": "stdout",
     "output_type": "stream",
     "text": [
      "[0]\tTest-auc:0.63923\n",
      "Will train until Test-auc hasn't improved in 10 rounds.\n",
      "[1]\tTest-auc:0.64435\n",
      "[2]\tTest-auc:0.65134\n",
      "[3]\tTest-auc:0.65665\n",
      "[4]\tTest-auc:0.65978\n",
      "[5]\tTest-auc:0.66373\n",
      "[6]\tTest-auc:0.66456\n",
      "[7]\tTest-auc:0.66496\n",
      "[8]\tTest-auc:0.66740\n",
      "[9]\tTest-auc:0.66794\n",
      "[10]\tTest-auc:0.66905\n",
      "[11]\tTest-auc:0.66918\n",
      "[12]\tTest-auc:0.67202\n",
      "[13]\tTest-auc:0.67234\n",
      "[14]\tTest-auc:0.67273\n",
      "[15]\tTest-auc:0.67403\n",
      "[16]\tTest-auc:0.67478\n",
      "[17]\tTest-auc:0.67479\n",
      "[18]\tTest-auc:0.67520\n",
      "[19]\tTest-auc:0.67504\n",
      "[20]\tTest-auc:0.67490\n",
      "[21]\tTest-auc:0.67492\n",
      "[22]\tTest-auc:0.67533\n",
      "[23]\tTest-auc:0.67548\n",
      "[24]\tTest-auc:0.67546\n",
      "[25]\tTest-auc:0.67551\n",
      "[26]\tTest-auc:0.67568\n",
      "[27]\tTest-auc:0.67569\n",
      "[28]\tTest-auc:0.67555\n",
      "[29]\tTest-auc:0.67554\n",
      "[30]\tTest-auc:0.67577\n",
      "[31]\tTest-auc:0.67602\n",
      "[32]\tTest-auc:0.67572\n",
      "[33]\tTest-auc:0.67581\n",
      "[34]\tTest-auc:0.67565\n",
      "[35]\tTest-auc:0.67564\n",
      "[36]\tTest-auc:0.67555\n",
      "[37]\tTest-auc:0.67560\n",
      "[38]\tTest-auc:0.67553\n",
      "[39]\tTest-auc:0.67576\n",
      "[40]\tTest-auc:0.67603\n",
      "[41]\tTest-auc:0.67612\n",
      "[42]\tTest-auc:0.67589\n",
      "[43]\tTest-auc:0.67628\n",
      "[44]\tTest-auc:0.67614\n",
      "[45]\tTest-auc:0.67602\n",
      "[46]\tTest-auc:0.67626\n",
      "[47]\tTest-auc:0.67618\n",
      "[48]\tTest-auc:0.67576\n",
      "[49]\tTest-auc:0.67582\n",
      "[50]\tTest-auc:0.67617\n",
      "[51]\tTest-auc:0.67612\n",
      "[52]\tTest-auc:0.67618\n",
      "[53]\tTest-auc:0.67619\n",
      "Stopping. Best iteration:\n",
      "[43]\tTest-auc:0.67628\n",
      "\n"
     ]
    }
   ],
   "source": [
    "model = xgb.train(\n",
    "    params,\n",
    "    dtrain,\n",
    "    num_boost_round=num_boost_round,\n",
    "    evals=[(dtest, \"Test\")],\n",
    "    early_stopping_rounds=10\n",
    ")"
   ]
  },
  {
   "cell_type": "code",
   "execution_count": 60,
   "metadata": {},
   "outputs": [
    {
     "data": {
      "text/html": [
       "<div>\n",
       "<style scoped>\n",
       "    .dataframe tbody tr th:only-of-type {\n",
       "        vertical-align: middle;\n",
       "    }\n",
       "\n",
       "    .dataframe tbody tr th {\n",
       "        vertical-align: top;\n",
       "    }\n",
       "\n",
       "    .dataframe thead th {\n",
       "        text-align: right;\n",
       "    }\n",
       "</style>\n",
       "<table border=\"1\" class=\"dataframe\">\n",
       "  <thead>\n",
       "    <tr style=\"text-align: right;\">\n",
       "      <th></th>\n",
       "      <th>train-auc-mean</th>\n",
       "      <th>train-auc-std</th>\n",
       "      <th>test-auc-mean</th>\n",
       "      <th>test-auc-std</th>\n",
       "    </tr>\n",
       "  </thead>\n",
       "  <tbody>\n",
       "    <tr>\n",
       "      <td>0</td>\n",
       "      <td>0.648657</td>\n",
       "      <td>0.001284</td>\n",
       "      <td>0.642657</td>\n",
       "      <td>0.002644</td>\n",
       "    </tr>\n",
       "    <tr>\n",
       "      <td>1</td>\n",
       "      <td>0.654989</td>\n",
       "      <td>0.002223</td>\n",
       "      <td>0.645590</td>\n",
       "      <td>0.003273</td>\n",
       "    </tr>\n",
       "    <tr>\n",
       "      <td>2</td>\n",
       "      <td>0.659344</td>\n",
       "      <td>0.001505</td>\n",
       "      <td>0.649810</td>\n",
       "      <td>0.004215</td>\n",
       "    </tr>\n",
       "    <tr>\n",
       "      <td>3</td>\n",
       "      <td>0.664936</td>\n",
       "      <td>0.001326</td>\n",
       "      <td>0.654244</td>\n",
       "      <td>0.004233</td>\n",
       "    </tr>\n",
       "    <tr>\n",
       "      <td>4</td>\n",
       "      <td>0.668210</td>\n",
       "      <td>0.000538</td>\n",
       "      <td>0.656359</td>\n",
       "      <td>0.003411</td>\n",
       "    </tr>\n",
       "    <tr>\n",
       "      <td>5</td>\n",
       "      <td>0.672814</td>\n",
       "      <td>0.001611</td>\n",
       "      <td>0.658685</td>\n",
       "      <td>0.003784</td>\n",
       "    </tr>\n",
       "    <tr>\n",
       "      <td>6</td>\n",
       "      <td>0.675719</td>\n",
       "      <td>0.001135</td>\n",
       "      <td>0.659244</td>\n",
       "      <td>0.004262</td>\n",
       "    </tr>\n",
       "    <tr>\n",
       "      <td>7</td>\n",
       "      <td>0.677377</td>\n",
       "      <td>0.001596</td>\n",
       "      <td>0.659845</td>\n",
       "      <td>0.004047</td>\n",
       "    </tr>\n",
       "    <tr>\n",
       "      <td>8</td>\n",
       "      <td>0.679139</td>\n",
       "      <td>0.001676</td>\n",
       "      <td>0.660862</td>\n",
       "      <td>0.004179</td>\n",
       "    </tr>\n",
       "    <tr>\n",
       "      <td>9</td>\n",
       "      <td>0.680773</td>\n",
       "      <td>0.001469</td>\n",
       "      <td>0.661327</td>\n",
       "      <td>0.004378</td>\n",
       "    </tr>\n",
       "    <tr>\n",
       "      <td>10</td>\n",
       "      <td>0.682394</td>\n",
       "      <td>0.001562</td>\n",
       "      <td>0.661832</td>\n",
       "      <td>0.003561</td>\n",
       "    </tr>\n",
       "    <tr>\n",
       "      <td>11</td>\n",
       "      <td>0.684367</td>\n",
       "      <td>0.001383</td>\n",
       "      <td>0.663026</td>\n",
       "      <td>0.003898</td>\n",
       "    </tr>\n",
       "    <tr>\n",
       "      <td>12</td>\n",
       "      <td>0.685783</td>\n",
       "      <td>0.001846</td>\n",
       "      <td>0.663547</td>\n",
       "      <td>0.003878</td>\n",
       "    </tr>\n",
       "    <tr>\n",
       "      <td>13</td>\n",
       "      <td>0.686878</td>\n",
       "      <td>0.001703</td>\n",
       "      <td>0.663638</td>\n",
       "      <td>0.003824</td>\n",
       "    </tr>\n",
       "    <tr>\n",
       "      <td>14</td>\n",
       "      <td>0.687779</td>\n",
       "      <td>0.001962</td>\n",
       "      <td>0.663951</td>\n",
       "      <td>0.003900</td>\n",
       "    </tr>\n",
       "    <tr>\n",
       "      <td>15</td>\n",
       "      <td>0.688824</td>\n",
       "      <td>0.002041</td>\n",
       "      <td>0.664213</td>\n",
       "      <td>0.004112</td>\n",
       "    </tr>\n",
       "    <tr>\n",
       "      <td>16</td>\n",
       "      <td>0.689381</td>\n",
       "      <td>0.001921</td>\n",
       "      <td>0.664211</td>\n",
       "      <td>0.003978</td>\n",
       "    </tr>\n",
       "    <tr>\n",
       "      <td>17</td>\n",
       "      <td>0.690980</td>\n",
       "      <td>0.001945</td>\n",
       "      <td>0.664743</td>\n",
       "      <td>0.004394</td>\n",
       "    </tr>\n",
       "    <tr>\n",
       "      <td>18</td>\n",
       "      <td>0.691651</td>\n",
       "      <td>0.001522</td>\n",
       "      <td>0.665157</td>\n",
       "      <td>0.004267</td>\n",
       "    </tr>\n",
       "    <tr>\n",
       "      <td>19</td>\n",
       "      <td>0.692467</td>\n",
       "      <td>0.002099</td>\n",
       "      <td>0.665148</td>\n",
       "      <td>0.004187</td>\n",
       "    </tr>\n",
       "    <tr>\n",
       "      <td>20</td>\n",
       "      <td>0.693069</td>\n",
       "      <td>0.002141</td>\n",
       "      <td>0.665119</td>\n",
       "      <td>0.004295</td>\n",
       "    </tr>\n",
       "    <tr>\n",
       "      <td>21</td>\n",
       "      <td>0.693422</td>\n",
       "      <td>0.002211</td>\n",
       "      <td>0.665265</td>\n",
       "      <td>0.004349</td>\n",
       "    </tr>\n",
       "    <tr>\n",
       "      <td>22</td>\n",
       "      <td>0.694569</td>\n",
       "      <td>0.002314</td>\n",
       "      <td>0.665195</td>\n",
       "      <td>0.004506</td>\n",
       "    </tr>\n",
       "    <tr>\n",
       "      <td>23</td>\n",
       "      <td>0.695161</td>\n",
       "      <td>0.002301</td>\n",
       "      <td>0.665332</td>\n",
       "      <td>0.004436</td>\n",
       "    </tr>\n",
       "    <tr>\n",
       "      <td>24</td>\n",
       "      <td>0.695747</td>\n",
       "      <td>0.002425</td>\n",
       "      <td>0.665252</td>\n",
       "      <td>0.004407</td>\n",
       "    </tr>\n",
       "    <tr>\n",
       "      <td>25</td>\n",
       "      <td>0.696478</td>\n",
       "      <td>0.002809</td>\n",
       "      <td>0.665168</td>\n",
       "      <td>0.004389</td>\n",
       "    </tr>\n",
       "    <tr>\n",
       "      <td>26</td>\n",
       "      <td>0.696897</td>\n",
       "      <td>0.002813</td>\n",
       "      <td>0.665422</td>\n",
       "      <td>0.004364</td>\n",
       "    </tr>\n",
       "    <tr>\n",
       "      <td>27</td>\n",
       "      <td>0.697312</td>\n",
       "      <td>0.002835</td>\n",
       "      <td>0.665531</td>\n",
       "      <td>0.004220</td>\n",
       "    </tr>\n",
       "    <tr>\n",
       "      <td>28</td>\n",
       "      <td>0.697776</td>\n",
       "      <td>0.002782</td>\n",
       "      <td>0.665557</td>\n",
       "      <td>0.004132</td>\n",
       "    </tr>\n",
       "  </tbody>\n",
       "</table>\n",
       "</div>"
      ],
      "text/plain": [
       "    train-auc-mean  train-auc-std  test-auc-mean  test-auc-std\n",
       "0         0.648657       0.001284       0.642657      0.002644\n",
       "1         0.654989       0.002223       0.645590      0.003273\n",
       "2         0.659344       0.001505       0.649810      0.004215\n",
       "3         0.664936       0.001326       0.654244      0.004233\n",
       "4         0.668210       0.000538       0.656359      0.003411\n",
       "5         0.672814       0.001611       0.658685      0.003784\n",
       "6         0.675719       0.001135       0.659244      0.004262\n",
       "7         0.677377       0.001596       0.659845      0.004047\n",
       "8         0.679139       0.001676       0.660862      0.004179\n",
       "9         0.680773       0.001469       0.661327      0.004378\n",
       "10        0.682394       0.001562       0.661832      0.003561\n",
       "11        0.684367       0.001383       0.663026      0.003898\n",
       "12        0.685783       0.001846       0.663547      0.003878\n",
       "13        0.686878       0.001703       0.663638      0.003824\n",
       "14        0.687779       0.001962       0.663951      0.003900\n",
       "15        0.688824       0.002041       0.664213      0.004112\n",
       "16        0.689381       0.001921       0.664211      0.003978\n",
       "17        0.690980       0.001945       0.664743      0.004394\n",
       "18        0.691651       0.001522       0.665157      0.004267\n",
       "19        0.692467       0.002099       0.665148      0.004187\n",
       "20        0.693069       0.002141       0.665119      0.004295\n",
       "21        0.693422       0.002211       0.665265      0.004349\n",
       "22        0.694569       0.002314       0.665195      0.004506\n",
       "23        0.695161       0.002301       0.665332      0.004436\n",
       "24        0.695747       0.002425       0.665252      0.004407\n",
       "25        0.696478       0.002809       0.665168      0.004389\n",
       "26        0.696897       0.002813       0.665422      0.004364\n",
       "27        0.697312       0.002835       0.665531      0.004220\n",
       "28        0.697776       0.002782       0.665557      0.004132"
      ]
     },
     "execution_count": 60,
     "metadata": {},
     "output_type": "execute_result"
    }
   ],
   "source": [
    "cv_results = xgb.cv(\n",
    "    params,\n",
    "    dtrain,\n",
    "    num_boost_round=num_boost_round,\n",
    "    seed=42,\n",
    "    nfold=5,\n",
    "    metrics={'auc'},\n",
    "    early_stopping_rounds=10\n",
    ")\n",
    "cv_results"
   ]
  },
  {
   "cell_type": "code",
   "execution_count": 62,
   "metadata": {},
   "outputs": [
    {
     "data": {
      "text/plain": [
       "0.6655570000000001"
      ]
     },
     "execution_count": 62,
     "metadata": {},
     "output_type": "execute_result"
    }
   ],
   "source": [
    "cv_results['test-auc-mean'].max()"
   ]
  },
  {
   "cell_type": "code",
   "execution_count": 63,
   "metadata": {},
   "outputs": [
    {
     "name": "stdout",
     "output_type": "stream",
     "text": [
      "CV with max_depth=9, min_child_weight=5\n"
     ]
    },
    {
     "name": "stderr",
     "output_type": "stream",
     "text": [
      "/Users/jerem/anaconda3/lib/python3.7/site-packages/ipykernel_launcher.py:30: FutureWarning: \n",
      "The current behaviour of 'Series.argmax' is deprecated, use 'idxmax'\n",
      "instead.\n",
      "The behavior of 'argmax' will be corrected to return the positional\n",
      "maximum in the future. For now, use 'series.values.argmax' or\n",
      "'np.argmax(np.array(values))' to get the position of the maximum\n",
      "row.\n"
     ]
    },
    {
     "name": "stdout",
     "output_type": "stream",
     "text": [
      "\tZUC 0.6610712 for 26 rounds\n",
      "CV with max_depth=9, min_child_weight=6\n",
      "\tZUC 0.6621792000000001 for 18 rounds\n",
      "CV with max_depth=9, min_child_weight=7\n",
      "\tZUC 0.661307 for 15 rounds\n",
      "CV with max_depth=10, min_child_weight=5\n",
      "\tZUC 0.6607476 for 19 rounds\n",
      "CV with max_depth=10, min_child_weight=6\n",
      "\tZUC 0.6599644 for 24 rounds\n",
      "CV with max_depth=10, min_child_weight=7\n",
      "\tZUC 0.6603174 for 30 rounds\n",
      "CV with max_depth=11, min_child_weight=5\n",
      "\tZUC 0.66099 for 14 rounds\n",
      "CV with max_depth=11, min_child_weight=6\n",
      "\tZUC 0.6609003999999999 for 19 rounds\n",
      "CV with max_depth=11, min_child_weight=7\n",
      "\tZUC 0.6610028 for 15 rounds\n",
      "Best params: 9, 6, AUC: 0.6621792000000001\n"
     ]
    }
   ],
   "source": [
    "gridsearch_params = [\n",
    "    (max_depth, min_child_weight)\n",
    "    for max_depth in range(9,12)\n",
    "    for min_child_weight in range(5,8)\n",
    "]\n",
    "\n",
    "\n",
    "# Define initial best params and MAE\n",
    "max_auc = 0\n",
    "best_params = None\n",
    "for max_depth, min_child_weight in gridsearch_params:\n",
    "    print(\"CV with max_depth={}, min_child_weight={}\".format(\n",
    "                             max_depth,\n",
    "                             min_child_weight))\n",
    "    # Update our parameters\n",
    "    params['max_depth'] = max_depth\n",
    "    params['min_child_weight'] = min_child_weight\n",
    "    # Run CV\n",
    "    cv_results = xgb.cv(\n",
    "        params,\n",
    "        dtrain,\n",
    "        num_boost_round=num_boost_round,\n",
    "        seed=42,\n",
    "        nfold=5,\n",
    "        metrics={'auc'},\n",
    "        early_stopping_rounds=10\n",
    "    )\n",
    "    # Update best AUC\n",
    "    mean_auc = cv_results['test-auc-mean'].max()\n",
    "    boost_rounds = cv_results['test-auc-mean'].argmax()\n",
    "    print(\"\\tZUC {} for {} rounds\".format(mean_auc, boost_rounds))\n",
    "    if mean_auc > max_auc:\n",
    "        max_auc = mean_auc\n",
    "        best_params = (max_depth,min_child_weight)\n",
    "print(\"Best params: {}, {}, AUC: {}\".format(best_params[0], best_params[1], max_auc))"
   ]
  },
  {
   "cell_type": "code",
   "execution_count": 6,
   "metadata": {},
   "outputs": [],
   "source": [
    "params['max_depth'] = 9\n",
    "params['min_child_weight'] = 6"
   ]
  },
  {
   "cell_type": "code",
   "execution_count": 65,
   "metadata": {},
   "outputs": [
    {
     "name": "stdout",
     "output_type": "stream",
     "text": [
      "CV with subsample=1.0, colsample=1.0\n",
      "\\AUC 0.6621792000000001 for 18 rounds\n",
      "CV with subsample=1.0, colsample=0.9\n",
      "\\AUC 0.6619455999999999 for 15 rounds\n",
      "CV with subsample=1.0, colsample=0.8\n",
      "\\AUC 0.6619927999999999 for 20 rounds\n",
      "CV with subsample=1.0, colsample=0.7\n",
      "\\AUC 0.6620524 for 21 rounds\n",
      "CV with subsample=0.9, colsample=1.0\n",
      "\\AUC 0.6620342 for 15 rounds\n",
      "CV with subsample=0.9, colsample=0.9\n",
      "\\AUC 0.6621737999999999 for 20 rounds\n",
      "CV with subsample=0.9, colsample=0.8\n",
      "\\AUC 0.6620113999999999 for 17 rounds\n",
      "CV with subsample=0.9, colsample=0.7\n",
      "\\AUC 0.6621852 for 20 rounds\n",
      "CV with subsample=0.8, colsample=1.0\n",
      "\\AUC 0.6613278 for 12 rounds\n",
      "CV with subsample=0.8, colsample=0.9\n",
      "\\AUC 0.6613822 for 15 rounds\n",
      "CV with subsample=0.8, colsample=0.8\n",
      "\\AUC 0.6627805999999999 for 17 rounds\n",
      "CV with subsample=0.8, colsample=0.7\n",
      "\\AUC 0.6624838000000001 for 22 rounds\n",
      "CV with subsample=0.7, colsample=1.0\n",
      "\\AUC 0.6613595999999999 for 12 rounds\n",
      "CV with subsample=0.7, colsample=0.9\n",
      "\\AUC 0.661467 for 12 rounds\n",
      "CV with subsample=0.7, colsample=0.8\n",
      "\\AUC 0.6612169999999999 for 6 rounds\n",
      "CV with subsample=0.7, colsample=0.7\n",
      "\\AUC 0.662749 for 10 rounds\n",
      "Best params: 0.8, 0.8, AUC: 0.6627805999999999\n"
     ]
    }
   ],
   "source": [
    "gridsearch_params = [\n",
    "    (subsample, colsample)\n",
    "    for subsample in [i/10. for i in range(7,11)]\n",
    "    for colsample in [i/10. for i in range(7,11)]\n",
    "]\n",
    "\n",
    "max_auc = 0\n",
    "best_params = None\n",
    "# We start by the largest values and go down to the smallest\n",
    "for subsample, colsample in reversed(gridsearch_params):\n",
    "    print(\"CV with subsample={}, colsample={}\".format(\n",
    "                             subsample,\n",
    "                             colsample))\n",
    "    # We update our parameters\n",
    "    params['subsample'] = subsample\n",
    "    params['colsample_bytree'] = colsample\n",
    "    # Run CV\n",
    "    cv_results = xgb.cv(\n",
    "        params,\n",
    "        dtrain,\n",
    "        num_boost_round=num_boost_round,\n",
    "        seed=42,\n",
    "        nfold=5,\n",
    "        metrics={'auc'},\n",
    "        early_stopping_rounds=10\n",
    "    )\n",
    "    # Update best score\n",
    "    mean_auc = cv_results['test-auc-mean'].max()\n",
    "    boost_rounds = cv_results['test-auc-mean'].idxmax()\n",
    "    print(\"\\AUC {} for {} rounds\".format(mean_auc, boost_rounds))\n",
    "    if mean_auc > max_auc:\n",
    "        max_auc = mean_auc\n",
    "        best_params = (subsample,colsample)\n",
    "print(\"Best params: {}, {}, AUC: {}\".format(best_params[0], best_params[1], max_auc))"
   ]
  },
  {
   "cell_type": "code",
   "execution_count": 7,
   "metadata": {},
   "outputs": [],
   "source": [
    "params['subsample'] = 0.8\n",
    "params['colsample_bytree'] = 0.8"
   ]
  },
  {
   "cell_type": "code",
   "execution_count": null,
   "metadata": {},
   "outputs": [],
   "source": []
  },
  {
   "cell_type": "code",
   "execution_count": 8,
   "metadata": {},
   "outputs": [
    {
     "name": "stdout",
     "output_type": "stream",
     "text": [
      "CPU times: user 3 µs, sys: 1 µs, total: 4 µs\n",
      "Wall time: 5.96 µs\n",
      "CV with eta=0.3\n",
      "CPU times: user 5min 22s, sys: 1.01 s, total: 5min 23s\n",
      "Wall time: 5min 23s\n",
      "\tAUC 0.6627805999999999 for 17 rounds\n",
      "\n",
      "CV with eta=0.2\n",
      "CPU times: user 6min 16s, sys: 1 s, total: 6min 17s\n",
      "Wall time: 6min 17s\n",
      "\tAUC 0.6631388 for 22 rounds\n",
      "\n",
      "CV with eta=0.1\n",
      "CPU times: user 5min 32s, sys: 990 ms, total: 5min 33s\n",
      "Wall time: 5min 33s\n",
      "\tAUC 0.6634971999999999 for 18 rounds\n",
      "\n",
      "CV with eta=0.05\n",
      "CPU times: user 11min 16s, sys: 1.11 s, total: 11min 17s\n",
      "Wall time: 11min 17s\n",
      "\tAUC 0.663796 for 49 rounds\n",
      "\n",
      "CV with eta=0.01\n",
      "CPU times: user 54min 34s, sys: 2.04 s, total: 54min 36s\n",
      "Wall time: 54min 37s\n",
      "\tAUC 0.6649706 for 283 rounds\n",
      "\n",
      "CV with eta=0.005\n",
      "CPU times: user 6min 41s, sys: 947 ms, total: 6min 42s\n",
      "Wall time: 6min 42s\n",
      "\tAUC 0.6612698 for 24 rounds\n",
      "\n",
      "Best params: 0.01, AUC: 0.6649706\n"
     ]
    }
   ],
   "source": [
    "%time\n",
    "\n",
    "max_auc = 0\n",
    "best_params = None\n",
    "for eta in [.3, .2, .1, .05, .01, .005]:\n",
    "    print(\"CV with eta={}\".format(eta))\n",
    "    # We update our parameters\n",
    "    params['eta'] = eta\n",
    "    # Run and time CV\n",
    "    %time cv_results = xgb.cv(params,dtrain,num_boost_round=num_boost_round,seed=42,nfold=5,metrics=['auc'],early_stopping_rounds=10)\n",
    "    # Update best score\n",
    "    mean_auc = cv_results['test-auc-mean'].max()\n",
    "    boost_rounds = cv_results['test-auc-mean'].idxmax()\n",
    "    print(\"\\tAUC {} for {} rounds\\n\".format(mean_auc, boost_rounds))\n",
    "    if mean_auc > max_auc:\n",
    "        max_auc = mean_auc\n",
    "        best_params = eta\n",
    "print(\"Best params: {}, AUC: {}\".format(best_params, max_auc))"
   ]
  },
  {
   "cell_type": "code",
   "execution_count": 9,
   "metadata": {},
   "outputs": [],
   "source": [
    "params['eta'] = 0.01"
   ]
  },
  {
   "cell_type": "code",
   "execution_count": 17,
   "metadata": {},
   "outputs": [],
   "source": [
    "#training du model avec les params optimaux\n",
    "\n",
    "model = xgb.XGBClassifier(max_depth = params['max_depth'],\n",
    "                          min_child_weight = params['min_child_weight'],\n",
    "                          subsample = params['subsample'],\n",
    "                          colsample_bytree = params['colsample_bytree'],\n",
    "                          eta = params['eta'],\n",
    "                          early_stopping_rounds=10,\n",
    "                          num_boost_round=num_boost_round,\n",
    "                          seed=42,\n",
    "                          nfold=5,\n",
    "                          metrics={'auc'},\n",
    "                         )\n",
    "\n"
   ]
  },
  {
   "cell_type": "code",
   "execution_count": 19,
   "metadata": {},
   "outputs": [
    {
     "name": "stdout",
     "output_type": "stream",
     "text": [
      "AUC: 0.6710932506833421\n"
     ]
    },
    {
     "data": {
      "image/png": "[encoded data removed]",
      "text/plain": [
       "<Figure size 432x288 with 1 Axes>"
      ]
     },
     "metadata": {
      "needs_background": "light"
     },
     "output_type": "display_data"
    }
   ],
   "source": [
    "#predicting\n",
    "\n",
    "model.fit(X_train, y_train)\n",
    "\n",
    "y_predict_xgb_tuned = model.predict_proba(X_test)[:,1]\n",
    "\n",
    "fpr, tpr, _ = roc_curve(y_test,y_predict_xgb_tuned)\n",
    "plt.plot(fpr, tpr, marker='.', label='LogistiIIc')\n",
    "\n",
    "\n",
    "print(\"AUC: {}\".format(roc_auc_score(y_test, y_predict_xgb_tuned)))"
   ]
  },
  {
   "cell_type": "code",
   "execution_count": 15,
   "metadata": {},
   "outputs": [
    {
     "name": "stdout",
     "output_type": "stream",
     "text": [
      "training\n",
      "[LibLinear]end training\n",
      "AUC: 0.6754760924465991\n"
     ]
    },
    {
     "data": {
      "image/png": "[encoded data removed]",
      "text/plain": [
       "<Figure size 432x288 with 1 Axes>"
      ]
     },
     "metadata": {
      "needs_background": "light"
     },
     "output_type": "display_data"
    }
   ],
   "source": [
    "params = clf.best_params_\n",
    "params\n",
    "\n",
    "\n",
    "blr = LogisticRegression(C = params['classifier__C'], class_weight = None, dual = False, fit_intercept = True,\n",
    "                         intercept_scaling = 1, l1_ratio = None, max_iter= 100, multi_class = 'auto',\n",
    "                         n_jobs= None, penalty='l1', random_state = 22, solver= 'liblinear', tol= 0.0001,\n",
    "                         verbose=2, warm_start= False)\n",
    "\n",
    "\n",
    "print(\"training\")\n",
    "blr.fit(X_train,y_train)\n",
    "print(\"end training\")\n",
    "\n",
    "y_p_blr = blr.predict_proba(X_test)[:,1]\n",
    "\n",
    "fpr, tpr, _ = roc_curve(y_test,y_p_blr)\n",
    "plt.plot(fpr, tpr, marker='.', label='LogistiIIc')\n",
    "\n",
    "\n",
    "print(\"AUC: {}\".format(roc_auc_score(y_test, y_p_blr)))"
   ]
  },
  {
   "cell_type": "code",
   "execution_count": 25,
   "metadata": {},
   "outputs": [
    {
     "name": "stdout",
     "output_type": "stream",
     "text": [
      "[0 0 0 ... 0 0 0]\n"
     ]
    }
   ],
   "source": [
    "print(y_ada_pred)"
   ]
  },
  {
   "cell_type": "code",
   "execution_count": 29,
   "metadata": {},
   "outputs": [],
   "source": [
    "#### executer la cellule d'en dessous -- attention va prendre du temps"
   ]
  },
  {
   "cell_type": "code",
   "execution_count": null,
   "metadata": {},
   "outputs": [],
   "source": [
    "from sklearn.ensemble import RandomForestClassifier\n",
    "from sklearn.model_selection import RandomizedSearchCV\n",
    "\n",
    "param_grid = {'bootstrap': [True, False],\n",
    " 'max_depth': [10, 20, 30, 40, 50, 60, 70, 80, 90, 100, None],\n",
    " 'max_features': ['auto', 'sqrt'],\n",
    " 'min_samples_leaf': [1, 2, 4],\n",
    " 'min_samples_split': [2, 5, 10],\n",
    " 'n_estimators': [200, 400, 600, 800, 1000, 1200, 1400, 1600, 1800, 2000]}\n",
    "\n",
    "rf = RandomForestClassifier()\n",
    "\n",
    "rf_random = RandomizedSearchCV(estimator = rf, param_distributions = param_grid, n_iter = 10, cv = 3, verbose=2, random_state=42, n_jobs = -1)\n",
    "\n",
    "\n",
    "\n",
    "print(\"fitting\")\n",
    "\n",
    "rf_random.fit(X_train, y_train)\n",
    "print(\"end fitting\")\n",
    "\n",
    "y_pred_res = rf_random.predict_proba(X_test)[:,1]\n",
    "\n",
    "fpr, tpr, _ = roc_curve(y_test,y_pred_res)\n",
    "plt.plot(fpr, tpr, marker='.', label='LogistiIIc')\n",
    "\n",
    "\n",
    "print(\"AUC: {}\".format(roc_auc_score(y_test, y_pred_res)))"
   ]
  },
  {
   "cell_type": "code",
   "execution_count": null,
   "metadata": {},
   "outputs": [],
   "source": []
  },
  {
   "cell_type": "code",
   "execution_count": 25,
   "metadata": {},
   "outputs": [
    {
     "name": "stdout",
     "output_type": "stream",
     "text": [
      "début resampling\n",
      "fin resampling\n"
     ]
    }
   ],
   "source": [
    "#resampling using smote de imblearn\n",
    "from imblearn.combine import SMOTETomek\n",
    "\n",
    "df_train_sample = df_train.sample(n = 34000, random_state=42)\n",
    "\n",
    "X_sample = df_train_sample.drop('return90',axis=1)\n",
    "y_sample = df_train_sample['return90']\n",
    "\n",
    "\n",
    "print(\"début resampling\")\n",
    "smt = SMOTETomek(sampling_strategy='auto')\n",
    "X_smt, y_smt = smt.fit_sample(X_sample, y_sample)\n",
    "print(\"fin resampling\")\n",
    "\n"
   ]
  },
  {
   "cell_type": "code",
   "execution_count": 27,
   "metadata": {},
   "outputs": [],
   "source": [
    "#il faudrait extraire les infos interressante des dates en rajoutant des colones binaires telles que : \n",
    "# weekends vs weekdays business hours and time of day\n",
    "#seasons\n",
    "#week of year number\n",
    "#month\n",
    "#year\n",
    "#beginning/end of month (pay days)\n",
    "#quarter\n",
    "#days to/from an action event(distance)\n",
    "\n",
    "X['cdate'] = pd.DatetimeIndex(X['cdate']).astype(np.int64)\n",
    "X['datetime'] = pd.DatetimeIndex(X['datetime']).astype(np.int64)\n",
    "X = X.drop(['cdate','datetime'], axis = 1)"
   ]
  },
  {
   "cell_type": "code",
   "execution_count": 43,
   "metadata": {},
   "outputs": [
    {
     "name": "stdout",
     "output_type": "stream",
     "text": [
      "(77983, 719)\n",
      "Fitting 3 folds for each of 10 candidates, totalling 30 fits\n"
     ]
    },
    {
     "name": "stderr",
     "output_type": "stream",
     "text": [
      "[Parallel(n_jobs=-1)]: Using backend LokyBackend with 8 concurrent workers.\n",
      "[Parallel(n_jobs=-1)]: Done  30 out of  30 | elapsed: 66.7min finished\n"
     ]
    },
    {
     "name": "stdout",
     "output_type": "stream",
     "text": [
      "Parametre C tuné du model: {'C': 0.05179474679231213}\n",
      "Meilleur score 0.7995896534036785\n",
      "fitting\n",
      "end fitting\n",
      "AUC: 0.6779176125843276\n"
     ]
    },
    {
     "data": {
      "image/png": "[encoded data removed]",
      "text/plain": [
       "<Figure size 432x288 with 1 Axes>"
      ]
     },
     "metadata": {
      "needs_background": "light"
     },
     "output_type": "display_data"
    }
   ],
   "source": [
    "from sklearn.model_selection import RandomizedSearchCV\n",
    "lr_date = LogisticRegression(penalty='elasticnet', solver='saga', l1_ratio= 0, max_iter = 3000)\n",
    "\n",
    "\n",
    "X_train, X_test, y_train, y_test = train_test_split(X, y, test_size = 0.3, random_state = 87)\n",
    "\n",
    "print(X.shape)\n",
    "\n",
    "c_space = np.logspace(-5, 8, 15)\n",
    "param_grid = {'C': c_space}\n",
    "\n",
    "logreg_cv = RandomizedSearchCV(lr_date, param_grid, n_iter = 10, cv = 3, verbose=2, random_state=42, n_jobs = -1)\n",
    "\n",
    "\n",
    "logreg_cv.fit(X_train,y_train)\n",
    "\n",
    "#Meilleur parametre C\n",
    "bestparam = logreg_cv.best_params_\n",
    "\n",
    "\n",
    "print(\"Parametre C tuné du model: {}\".format(bestparam)) \n",
    "print(\"Meilleur score {}\".format(logreg_cv.best_score_))\n",
    "\n",
    "lr_date_tuned = LogisticRegression(penalty='elasticnet', solver='saga', l1_ratio= 0, max_iter = 3000,\n",
    "                                   C = bestparam['C'])\n",
    "\n",
    "\n",
    "\n",
    "print(\"fitting\")\n",
    "\n",
    "lr_date_tuned.fit(X_train,y_train)\n",
    "\n",
    "print(\"end fitting\")\n",
    "\n",
    "y_lr_date_predict = lr_date_tuned.predict_proba(X_test)[:,1]\n",
    "\n",
    "\n",
    "\n",
    "fpr, tpr, _ = roc_curve(y_test,y_lr_date_predict)\n",
    "plt.plot(fpr, tpr, marker='.', label='LogistiIIc')\n",
    "\n",
    "\n",
    "print(\"AUC: {}\".format(roc_auc_score(y_test, y_lr_date_predict)))"
   ]
  },
  {
   "cell_type": "code",
   "execution_count": 25,
   "metadata": {},
   "outputs": [
    {
     "name": "stdout",
     "output_type": "stream",
     "text": [
      "1    15613\n",
      "0    15613\n",
      "Name: return90, dtype: int64\n"
     ]
    }
   ],
   "source": [
    "#resampling data car on a affaire à un dataset unbalanced avec plus de0 que de 1 dans le return 90 ( 80:20)\n",
    "\n",
    "count_class_0, count_class_1 = df_train.return90.value_counts()\n",
    "\n",
    "#division par classe\n",
    "df_class_0 = df_train[df_train['return90']==0]\n",
    "df_class_1 = df_train[df_train['return90']==1]\n",
    "\n",
    "#random under sampling\n",
    "df_class_0_under = df_class_0.sample(count_class_1)\n",
    "df_test_under = pd.concat([df_class_0_under,df_class_1], axis = 0)\n",
    "print(df_test_under.return90.value_counts())"
   ]
  },
  {
   "cell_type": "code",
   "execution_count": 26,
   "metadata": {},
   "outputs": [],
   "source": [
    "X_under_sampling = df_test_under.drop('return90', axis=1)\n",
    "y_under_sampling = df_test_under['return90']\n"
   ]
  },
  {
   "cell_type": "code",
   "execution_count": null,
   "metadata": {},
   "outputs": [],
   "source": []
  },
  {
   "cell_type": "code",
   "execution_count": null,
   "metadata": {},
   "outputs": [],
   "source": []
  },
  {
   "cell_type": "code",
   "execution_count": null,
   "metadata": {},
   "outputs": [],
   "source": []
  },
  {
   "cell_type": "code",
   "execution_count": null,
   "metadata": {},
   "outputs": [],
   "source": []
  },
  {
   "cell_type": "code",
   "execution_count": null,
   "metadata": {},
   "outputs": [],
   "source": []
  },
  {
   "cell_type": "code",
   "execution_count": null,
   "metadata": {},
   "outputs": [],
   "source": []
  },
  {
   "cell_type": "code",
   "execution_count": 47,
   "metadata": {},
   "outputs": [
    {
     "name": "stdout",
     "output_type": "stream",
     "text": [
      "Fitting 3 folds for each of 20 candidates, totalling 60 fits\n"
     ]
    },
    {
     "name": "stderr",
     "output_type": "stream",
     "text": [
      "[Parallel(n_jobs=-1)]: Using backend LokyBackend with 8 concurrent workers.\n",
      "[Parallel(n_jobs=-1)]: Done  25 tasks      | elapsed:    4.3s\n"
     ]
    },
    {
     "name": "stdout",
     "output_type": "stream",
     "text": [
      "Parametre C tuné du model: {'min_samples_split': 5, 'min_samples_leaf': 1, 'max_features': 'sqrt', 'max_depth': 10, 'criterion': 'gini'}\n",
      "Meilleur score 0.7977943870447718\n"
     ]
    },
    {
     "name": "stderr",
     "output_type": "stream",
     "text": [
      "[Parallel(n_jobs=-1)]: Done  60 out of  60 | elapsed:    5.9s finished\n"
     ]
    }
   ],
   "source": [
    "from sklearn.tree import DecisionTreeClassifier\n",
    "\n",
    "clf_dt = DecisionTreeClassifier(random_state=500)\n",
    "\n",
    "\n",
    "X_train, X_test, y_train, y_test = train_test_split(X,y, test_size = 0.3, random_state= 60)\n",
    "\n",
    "\n",
    "\n",
    "#critere\n",
    "criterion = ['gini', 'entropy']\n",
    "\n",
    "# nombre de features à chaque split\n",
    "max_features = ['auto', 'sqrt','log2']\n",
    "# nombre max d'etage pour chaque arbre\n",
    "max_depth = [int(x) for x in np.linspace(10, 110, num = 11)]\n",
    "max_depth.append(None)\n",
    "# nombre mini pour split un noeud\n",
    "min_samples_split = [2, 5, 10]\n",
    "# nombre mini pour chaque feuille\n",
    "min_samples_leaf = [1, 2, 4]\n",
    "# methode de selection des sous ensemble du dataset\n",
    "\n",
    "#grille pour les test des parametres optimaux\n",
    "\n",
    "random_grid = {'criterion': criterion,\n",
    "               'max_features': max_features,\n",
    "               'max_depth': max_depth,\n",
    "               'min_samples_split': min_samples_split,\n",
    "               'min_samples_leaf': min_samples_leaf\n",
    "              }\n",
    "\n",
    "\n",
    "\n",
    "\n",
    "\n",
    "# 3 folds, 10 iterations = 30 test = env 8min sur le datasets sans reduction de dimensionnalités\n",
    "rf_random = RandomizedSearchCV(estimator = clf_dt, param_distributions = random_grid, n_iter = 20, cv = 3, verbose=2, random_state=42, n_jobs = -1)\n",
    "\n",
    "\n",
    "rf_random.fit(X_train, y_train)\n",
    "\n",
    "bestparam = rf_random.best_params_\n",
    "\n",
    "\n",
    "print(\"Parametre C tuné du model: {}\".format(bestparam)) \n",
    "print(\"Meilleur score {}\".format(rf_random.best_score_))\n",
    "\n",
    "\n",
    "\n",
    "\n"
   ]
  },
  {
   "cell_type": "code",
   "execution_count": 48,
   "metadata": {},
   "outputs": [
    {
     "name": "stdout",
     "output_type": "stream",
     "text": [
      "predicting ...\n",
      "AUC: 0.6316119856722038\n"
     ]
    },
    {
     "data": {
      "image/png": "[encoded data removed]",
      "text/plain": [
       "<Figure size 432x288 with 1 Axes>"
      ]
     },
     "metadata": {
      "needs_background": "light"
     },
     "output_type": "display_data"
    }
   ],
   "source": [
    "dt = DecisionTreeClassifier(min_samples_split = bestparam['min_samples_split'],\n",
    "                            min_samples_leaf = bestparam['min_samples_leaf'],\n",
    "                            max_features = bestparam['max_features'],\n",
    "                            max_depth =  bestparam['max_depth'],\n",
    "                            criterion = bestparam['criterion'],\n",
    "                            random_state=500)\n",
    "\n",
    "dt.fit(X_train,y_train)\n",
    "\n",
    "\n",
    "print('predicting ...')\n",
    "\n",
    "y_p_dt = dt.predict_proba(X_test)[:,1]\n",
    "\n",
    "fpr, tpr, _ = roc_curve(y_test,y_p_dt)\n",
    "plt.plot(fpr, tpr, marker='.', label='LogistiIIc')\n",
    "\n",
    "\n",
    "print(\"AUC: {}\".format(roc_auc_score(y_test, y_p_dt)))\n"
   ]
  },
  {
   "cell_type": "code",
   "execution_count": 51,
   "metadata": {},
   "outputs": [
    {
     "name": "stdout",
     "output_type": "stream",
     "text": [
      "fitting...\n"
     ]
    },
    {
     "name": "stderr",
     "output_type": "stream",
     "text": [
      "/Users/jerem/anaconda3/lib/python3.7/site-packages/sklearn/linear_model/sag.py:337: ConvergenceWarning: The max_iter was reached which means the coef_ did not converge\n",
      "  \"the coef_ did not converge\", ConvergenceWarning)\n",
      "/Users/jerem/anaconda3/lib/python3.7/site-packages/sklearn/linear_model/logistic.py:432: FutureWarning: Default solver will be changed to 'lbfgs' in 0.22. Specify a solver to silence this warning.\n",
      "  FutureWarning)\n"
     ]
    },
    {
     "name": "stdout",
     "output_type": "stream",
     "text": [
      "fin fitting\n",
      "AUC: 0.6124567973907604\n"
     ]
    },
    {
     "data": {
      "image/png": "[encoded data removed]",
      "text/plain": [
       "<Figure size 432x288 with 1 Axes>"
      ]
     },
     "metadata": {
      "needs_background": "light"
     },
     "output_type": "display_data"
    }
   ],
   "source": [
    "from mlxtend.classifier import StackingClassifier\n",
    "from sklearn.naive_bayes import GaussianNB\n",
    "from sklearn.neighbors import KNeighborsClassifier\n",
    "\n",
    "\n",
    "clf_meta = LogisticRegression(random_state=500)\n",
    "\n",
    "clf_nb = GaussianNB()\n",
    "k = KNeighborsClassifier(n_neighbors = 4)\n",
    "\n",
    "clf_stack = StackingClassifier(classifiers=[test_rl,dt, clf_nb,k],\n",
    "                               meta_classifier=clf_meta,\n",
    "                               use_features_in_secondary=False,\n",
    "                               use_probas = True)\n",
    "\n",
    "\n",
    "print(\"fitting...\")\n",
    "clf_stack.fit(X_train,y_train)\n",
    "print(\"fin fitting\")\n",
    "\n",
    "y_pred_stack = clf_stack.predict_proba(X_test)[:,1]\n",
    "\n",
    "\n",
    "fpr, tpr, _ = roc_curve(y_test,y_pred_stack)\n",
    "plt.plot(fpr, tpr, marker='.', label='LogistiIIc')\n",
    "\n",
    "\n",
    "print(\"AUC: {}\".format(roc_auc_score(y_test, y_pred_stack)))"
   ]
  },
  {
   "cell_type": "code",
   "execution_count": null,
   "metadata": {},
   "outputs": [],
   "source": []
  },
  {
   "cell_type": "code",
   "execution_count": 20,
   "metadata": {},
   "outputs": [
    {
     "name": "stdout",
     "output_type": "stream",
     "text": [
      "[0.42192262 0.42105013 0.4368787  ... 0.30835393 0.2734128  0.25517428]\n"
     ]
    }
   ],
   "source": [
    "X_df_sub = df_submission_test.drop('return90', axis = 1)\n",
    "X_df_sub.set_index('booking_id', inplace= True)\n",
    "#X_df_sub_reduc = X_df_sub.loc[:, model_reduc.get_support()]\n",
    "\n",
    "\n",
    "regex = re.compile(r\"\\[|\\]|<\", re.IGNORECASE)\n",
    "\n",
    "X_df_sub.columns = [regex.sub(\"_\", col) if any(x in str(col) for x in set(('[', ']', '<'))) else col for col in X_df_sub.columns.values]\n",
    "X_df_sub.columns = [regex.sub(\"_\", col) if any(x in str(col) for x in set(('[', ']', '<'))) else col for col in X_df_sub.columns.values]\n",
    "\n",
    "\n",
    "y_pred_sub = model.predict_proba(X_df_sub)[:,1]\n",
    "print(y_pred_sub)\n",
    "\n",
    "\n",
    "#index = X_df_sub_reduc['booking_id'].astype(np.int64)\n",
    "submission_df = pd.DataFrame({'return90': y_pred_sub},index=X_df_sub.index)\n",
    "\n",
    "submission_df.to_csv('submission11.csv',sep=',')"
   ]
  },
  {
   "cell_type": "code",
   "execution_count": null,
   "metadata": {},
   "outputs": [],
   "source": []
  }
 ],
 "metadata": {
  "kernelspec": {
   "display_name": "Python 3",
   "language": "python",
   "name": "python3"
  },
  "language_info": {
   "codemirror_mode": {
    "name": "ipython",
    "version": 3
   },
   "file_extension": ".py",
   "mimetype": "text/x-python",
   "name": "python",
   "nbconvert_exporter": "python",
   "pygments_lexer": "ipython3",
   "version": "3.7.4"
  }
 },
 "nbformat": 4,
 "nbformat_minor": 2
}
